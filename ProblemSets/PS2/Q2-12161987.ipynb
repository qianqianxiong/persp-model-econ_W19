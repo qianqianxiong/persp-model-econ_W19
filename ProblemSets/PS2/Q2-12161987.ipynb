{
 "cells": [
  {
   "cell_type": "code",
   "execution_count": null,
   "metadata": {},
   "outputs": [],
   "source": [
    "#Problem 2.1"
   ]
  },
  {
   "cell_type": "code",
   "execution_count": 1,
   "metadata": {},
   "outputs": [],
   "source": [
    "def integ_g_x(g, a, b, N, methods ={'midpoint','trapezoid','Simpsons'} ):\n",
    "        inter_mid = [a + (b-a) *(2*i+1)/(2 * N) for i in range(N)]\n",
    "        appro_mid=sum(g(i) for i in inter_mid)*(b-a)/N\n",
    "        inter_trap=[a+i*(b-a)/N for i in range (N+1)]\n",
    "        appro_trap=(2*sum(g(i) for i in inter_trap[1:-1])+ g(inter_trap[0])+g(inter_trap[-1]))*(b-a)/(N*2)\n",
    "        inter_sims=[a+i*(b-a)/(N*2) for i in range(2*N+1)]\n",
    "        appro_sims=(g(inter_sims[0])+g(inter_sims[-1])+4*sum(g(i) for i in inter_sims[1:-1:2])+2*sum(g(i) for i in inter_sims[2:-2:2]))*(b-a)/(6*N)\n",
    "        return appro_mid, appro_trap, appro_sims"
   ]
  },
  {
   "cell_type": "code",
   "execution_count": 2,
   "metadata": {},
   "outputs": [
    {
     "name": "stdout",
     "output_type": "stream",
     "text": [
      "Midpoint method value: 4373.329911667274\n",
      "Trapezoid method value: 4373.340176666012\n",
      "Simpsons method value: 4373.3333333335195\n",
      "Difference between Midpoint value and true value: 0.0034216660590876136\n",
      "Difference between Trapezoid value and true value: 0.006843332678424019\n",
      "Difference between Simpsons value and true value: 1.861432674665764e-10\n"
     ]
    }
   ],
   "source": [
    "g =lambda x: 0.1 * (x ** 4) - 1.5 * (x ** 3) + 0.53 * (x ** 2) + 2 * x + 1\n",
    "value = integ_g_x(g,-10, 10, 2000)\n",
    "print(\"Midpoint method value:\",value[0])\n",
    "print(\"Trapezoid method value:\",value[1])\n",
    "print(\"Simpsons method value:\",value[2])\n",
    "print(\"Difference between Midpoint value and true value:\", abs(value[0] - 4373 - 1/3))\n",
    "print(\"Difference between Trapezoid value and true value:\", abs(value[1] - 4373 - 1/3))\n",
    "print(\"Difference between Simpsons value and true value:\", abs(value[2] - 4373 - 1/3))"
   ]
  },
  {
   "cell_type": "code",
   "execution_count": null,
   "metadata": {},
   "outputs": [],
   "source": [
    "#Problem 2.2"
   ]
  },
  {
   "cell_type": "code",
   "execution_count": 3,
   "metadata": {},
   "outputs": [],
   "source": [
    "import scipy.stats as sts\n",
    "import pandas as ps\n",
    "import numpy as np\n",
    "\n",
    "def normal_dis(mean, std, N, k):\n",
    "    nodes = np.linspace(mean - std * k, mean + std * k, N)\n",
    "    mids = (nodes[1:] + nodes[:-1]) / 2\n",
    "    w0 = sts.norm.cdf(mids[0], mean, std)\n",
    "    w1 = sts.norm.cdf(mids, mean, std)\n",
    "    w1 = np.diff(w1).tolist()\n",
    "    w2 = 1 - sts.norm.cdf(mids[-1], mean, std)\n",
    "    weights = [w0] + w1 + [w2]\n",
    "    nodes = nodes.tolist()\n",
    "    table = {'Nodes' : nodes, 'Weights' : weights}\n",
    "    psf = ps.DataFrame(table)\n",
    "    return psf"
   ]
  },
  {
   "cell_type": "code",
   "execution_count": 4,
   "metadata": {},
   "outputs": [
    {
     "data": {
      "text/html": [
       "<div>\n",
       "<style scoped>\n",
       "    .dataframe tbody tr th:only-of-type {\n",
       "        vertical-align: middle;\n",
       "    }\n",
       "\n",
       "    .dataframe tbody tr th {\n",
       "        vertical-align: top;\n",
       "    }\n",
       "\n",
       "    .dataframe thead th {\n",
       "        text-align: right;\n",
       "    }\n",
       "</style>\n",
       "<table border=\"1\" class=\"dataframe\">\n",
       "  <thead>\n",
       "    <tr style=\"text-align: right;\">\n",
       "      <th></th>\n",
       "      <th>Nodes</th>\n",
       "      <th>Weights</th>\n",
       "    </tr>\n",
       "  </thead>\n",
       "  <tbody>\n",
       "    <tr>\n",
       "      <th>0</th>\n",
       "      <td>-3.0</td>\n",
       "      <td>0.003467</td>\n",
       "    </tr>\n",
       "    <tr>\n",
       "      <th>1</th>\n",
       "      <td>-2.4</td>\n",
       "      <td>0.014397</td>\n",
       "    </tr>\n",
       "    <tr>\n",
       "      <th>2</th>\n",
       "      <td>-1.8</td>\n",
       "      <td>0.048943</td>\n",
       "    </tr>\n",
       "    <tr>\n",
       "      <th>3</th>\n",
       "      <td>-1.2</td>\n",
       "      <td>0.117253</td>\n",
       "    </tr>\n",
       "    <tr>\n",
       "      <th>4</th>\n",
       "      <td>-0.6</td>\n",
       "      <td>0.198028</td>\n",
       "    </tr>\n",
       "    <tr>\n",
       "      <th>5</th>\n",
       "      <td>0.0</td>\n",
       "      <td>0.235823</td>\n",
       "    </tr>\n",
       "    <tr>\n",
       "      <th>6</th>\n",
       "      <td>0.6</td>\n",
       "      <td>0.198028</td>\n",
       "    </tr>\n",
       "    <tr>\n",
       "      <th>7</th>\n",
       "      <td>1.2</td>\n",
       "      <td>0.117253</td>\n",
       "    </tr>\n",
       "    <tr>\n",
       "      <th>8</th>\n",
       "      <td>1.8</td>\n",
       "      <td>0.048943</td>\n",
       "    </tr>\n",
       "    <tr>\n",
       "      <th>9</th>\n",
       "      <td>2.4</td>\n",
       "      <td>0.014397</td>\n",
       "    </tr>\n",
       "    <tr>\n",
       "      <th>10</th>\n",
       "      <td>3.0</td>\n",
       "      <td>0.003467</td>\n",
       "    </tr>\n",
       "  </tbody>\n",
       "</table>\n",
       "</div>"
      ],
      "text/plain": [
       "    Nodes   Weights\n",
       "0    -3.0  0.003467\n",
       "1    -2.4  0.014397\n",
       "2    -1.8  0.048943\n",
       "3    -1.2  0.117253\n",
       "4    -0.6  0.198028\n",
       "5     0.0  0.235823\n",
       "6     0.6  0.198028\n",
       "7     1.2  0.117253\n",
       "8     1.8  0.048943\n",
       "9     2.4  0.014397\n",
       "10    3.0  0.003467"
      ]
     },
     "execution_count": 4,
     "metadata": {},
     "output_type": "execute_result"
    }
   ],
   "source": [
    "normal_dis(0,1,11,3)"
   ]
  },
  {
   "cell_type": "code",
   "execution_count": null,
   "metadata": {},
   "outputs": [],
   "source": [
    "#Problem 2.3"
   ]
  },
  {
   "cell_type": "code",
   "execution_count": 5,
   "metadata": {},
   "outputs": [],
   "source": [
    "def normal_log(mean, std, N, k):\n",
    "    nodes = np.linspace(mean-std*k, mean+std*k, N)\n",
    "    mids = (nodes[1:] + nodes[:-1]) / 2\n",
    "    w1 = sts.norm.cdf(mids[0], mean, std)\n",
    "    w2 = sts.norm.cdf(mids, mean, std)\n",
    "    w2 = np.diff(w2).tolist()\n",
    "    w3 = 1 - sts.norm.cdf(mids[-1], mean, std)\n",
    "    weights = [w1] + w2 + [w3]\n",
    "    nodes = np.exp(nodes).tolist()\n",
    "    table = {'Nodes' : nodes, 'Weights' : weights}\n",
    "    psf = ps.DataFrame(table)    \n",
    "    return psf"
   ]
  },
  {
   "cell_type": "code",
   "execution_count": 6,
   "metadata": {},
   "outputs": [
    {
     "data": {
      "text/html": [
       "<div>\n",
       "<style scoped>\n",
       "    .dataframe tbody tr th:only-of-type {\n",
       "        vertical-align: middle;\n",
       "    }\n",
       "\n",
       "    .dataframe tbody tr th {\n",
       "        vertical-align: top;\n",
       "    }\n",
       "\n",
       "    .dataframe thead th {\n",
       "        text-align: right;\n",
       "    }\n",
       "</style>\n",
       "<table border=\"1\" class=\"dataframe\">\n",
       "  <thead>\n",
       "    <tr style=\"text-align: right;\">\n",
       "      <th></th>\n",
       "      <th>Nodes</th>\n",
       "      <th>Weights</th>\n",
       "    </tr>\n",
       "  </thead>\n",
       "  <tbody>\n",
       "    <tr>\n",
       "      <th>0</th>\n",
       "      <td>0.049787</td>\n",
       "      <td>0.003467</td>\n",
       "    </tr>\n",
       "    <tr>\n",
       "      <th>1</th>\n",
       "      <td>0.090718</td>\n",
       "      <td>0.014397</td>\n",
       "    </tr>\n",
       "    <tr>\n",
       "      <th>2</th>\n",
       "      <td>0.165299</td>\n",
       "      <td>0.048943</td>\n",
       "    </tr>\n",
       "    <tr>\n",
       "      <th>3</th>\n",
       "      <td>0.301194</td>\n",
       "      <td>0.117253</td>\n",
       "    </tr>\n",
       "    <tr>\n",
       "      <th>4</th>\n",
       "      <td>0.548812</td>\n",
       "      <td>0.198028</td>\n",
       "    </tr>\n",
       "    <tr>\n",
       "      <th>5</th>\n",
       "      <td>1.000000</td>\n",
       "      <td>0.235823</td>\n",
       "    </tr>\n",
       "    <tr>\n",
       "      <th>6</th>\n",
       "      <td>1.822119</td>\n",
       "      <td>0.198028</td>\n",
       "    </tr>\n",
       "    <tr>\n",
       "      <th>7</th>\n",
       "      <td>3.320117</td>\n",
       "      <td>0.117253</td>\n",
       "    </tr>\n",
       "    <tr>\n",
       "      <th>8</th>\n",
       "      <td>6.049647</td>\n",
       "      <td>0.048943</td>\n",
       "    </tr>\n",
       "    <tr>\n",
       "      <th>9</th>\n",
       "      <td>11.023176</td>\n",
       "      <td>0.014397</td>\n",
       "    </tr>\n",
       "    <tr>\n",
       "      <th>10</th>\n",
       "      <td>20.085537</td>\n",
       "      <td>0.003467</td>\n",
       "    </tr>\n",
       "  </tbody>\n",
       "</table>\n",
       "</div>"
      ],
      "text/plain": [
       "        Nodes   Weights\n",
       "0    0.049787  0.003467\n",
       "1    0.090718  0.014397\n",
       "2    0.165299  0.048943\n",
       "3    0.301194  0.117253\n",
       "4    0.548812  0.198028\n",
       "5    1.000000  0.235823\n",
       "6    1.822119  0.198028\n",
       "7    3.320117  0.117253\n",
       "8    6.049647  0.048943\n",
       "9   11.023176  0.014397\n",
       "10  20.085537  0.003467"
      ]
     },
     "execution_count": 6,
     "metadata": {},
     "output_type": "execute_result"
    }
   ],
   "source": [
    "normal_log(0,1,11,3)"
   ]
  },
  {
   "cell_type": "code",
   "execution_count": null,
   "metadata": {},
   "outputs": [],
   "source": [
    "#Problem 2.4"
   ]
  },
  {
   "cell_type": "code",
   "execution_count": 7,
   "metadata": {},
   "outputs": [
    {
     "name": "stdout",
     "output_type": "stream",
     "text": [
      "The exact value is: 50011.087008521754\n",
      "Approximation is: 50009.69075006097\n",
      "Difference between approximation and the exact value is : 1.3962584607870667\n"
     ]
    }
   ],
   "source": [
    "appro_log=normal_log(10.5,0.8,19,3)\n",
    "appro = sum(appro_log.Nodes * appro_log.Weights)\n",
    "exact=np.exp(10.5+0.8*0.8/2)\n",
    "print(\"The exact value is:\",exact)\n",
    "print(\"Approximation is:\",appro)\n",
    "print(\"Difference between approximation and the exact value is :\",abs(appro-exact))"
   ]
  },
  {
   "cell_type": "code",
   "execution_count": null,
   "metadata": {},
   "outputs": [],
   "source": [
    "#Problem 3.1"
   ]
  },
  {
   "cell_type": "code",
   "execution_count": 8,
   "metadata": {},
   "outputs": [],
   "source": [
    "g=lambda x: 0.1 * x ** 4 - 1.5 * x ** 3 + 0.53 * x ** 2 + 2 * x + 1 \n",
    "from scipy import optimize\n",
    "def h_x(x, a=-1, b=1):\n",
    "\n",
    "    return [x[0] + x[1] + x[2] - b + a,\n",
    "           x[0] * x[3] + x[1] * x[4] + x[2] * x[5] - 0.5*b**2 + 0.5*a**2,\n",
    "           x[0] * x[3]**2 + x[1] * x[4]**2 + x[2] * x[5]**2 - (1/3)*b**3 + (1/3)*a**3,\n",
    "           x[0] * x[3]**3 + x[1] * x[4]**3 + x[2] * x[5]**3 - (1/4)*b**4 + (1/4)*a**4,\n",
    "           x[0] * x[3]**4 + x[1] * x[4]**4 + x[2] * x[5]**4 - (1/5)*b**5 + (1/5)*a**5,\n",
    "           x[0] * x[3]**5 + x[1] * x[4]**5 + x[2] * x[5]**5 - (1/6)*b**6 + (1/6)*a**6]"
   ]
  },
  {
   "cell_type": "code",
   "execution_count": 9,
   "metadata": {},
   "outputs": [
    {
     "data": {
      "text/plain": [
       "array([ 8.88888889e-01,  5.55555555e-01,  5.55555556e-01,  2.17156210e-10,\n",
       "        7.74596669e-01, -7.74596669e-01])"
      ]
     },
     "execution_count": 9,
     "metadata": {},
     "output_type": "execute_result"
    }
   ],
   "source": [
    "array = optimize.root(h_x, [0, 0, 0, 0, 0, 0])\n",
    "array.x"
   ]
  },
  {
   "cell_type": "code",
   "execution_count": 10,
   "metadata": {},
   "outputs": [
    {
     "name": "stdout",
     "output_type": "stream",
     "text": [
      "0.8888888888408315 0.5555555554936595 0.5555555556655091 2.1715621010209267e-10 0.774596669289369 -0.7745966691755107\n"
     ]
    }
   ],
   "source": [
    "    w1=array.x[0]\n",
    "    w2=array.x[1]\n",
    "    w3=array.x[2]\n",
    "    x1=array.x[3]\n",
    "    x2=array.x[4]\n",
    "    x3=array.x[5]\n",
    "    print(w1,w2,w3,x1,x2,x3) "
   ]
  },
  {
   "cell_type": "code",
   "execution_count": 11,
   "metadata": {},
   "outputs": [
    {
     "name": "stdout",
     "output_type": "stream",
     "text": [
      "Approximation: 4373.333332841357\n",
      "the exact value: 4373.333333333333\n",
      "Absolute Error: 4.919756975141354e-07\n"
     ]
    }
   ],
   "source": [
    "a=-10\n",
    "b=10\n",
    "p = (b - a)/2\n",
    "q = (b + a)/2\n",
    "appro=(b - a) * 0.5 * (w1 * g(p*x1+q)+w2*g(p*x2+q)+w3*g(p*x3+q))\n",
    "exact=4373+1/3\n",
    "print(\"Approximation:\",appro)\n",
    "print(\"the exact value:\",exact)\n",
    "print(\"Absolute Error:\",abs(exact-appro))"
   ]
  },
  {
   "cell_type": "code",
   "execution_count": null,
   "metadata": {},
   "outputs": [],
   "source": [
    "#Problem 3.2"
   ]
  },
  {
   "cell_type": "code",
   "execution_count": 12,
   "metadata": {},
   "outputs": [
    {
     "name": "stdout",
     "output_type": "stream",
     "text": [
      "Approximated integral using Scipy Gaussian quadrature: 4373.333333333334\n",
      "the exact value: 4373.333333333333\n",
      "Absolute Error: 9.094947017729282e-13\n"
     ]
    }
   ],
   "source": [
    "from scipy.integrate import quad\n",
    "g=lambda x: 0.1 * x ** 4 - 1.5 * x ** 3 + 0.53 * x ** 2 + 2 * x + 1\n",
    "appro=quad(g,-10,10)[0]\n",
    "exact=4373+1/3\n",
    "print(\"Approximated integral using Scipy Gaussian quadrature:\",appro)\n",
    "print(\"the exact value:\",exact)\n",
    "print(\"Absolute Error:\",abs(exact-appro))"
   ]
  },
  {
   "cell_type": "code",
   "execution_count": null,
   "metadata": {},
   "outputs": [],
   "source": [
    "#Problem 4.1"
   ]
  },
  {
   "cell_type": "code",
   "execution_count": 13,
   "metadata": {},
   "outputs": [],
   "source": [
    "def cir_inside(x, y):\n",
    "    if x ** 2 + y ** 2 <= 1:\n",
    "        return 1\n",
    "    else:\n",
    "        return 0"
   ]
  },
  {
   "cell_type": "code",
   "execution_count": 14,
   "metadata": {},
   "outputs": [],
   "source": [
    "import numpy as np\n",
    "np.random.seed=25\n",
    "N = 1\n",
    "while N > 0:\n",
    "    mc_x = np.random.uniform(-1, 1, N)\n",
    "    mc_y = np.random.uniform(-1, 1, N)\n",
    "    frac = list(map(cir_inside, mc_x, mc_y))\n",
    "    area = 4 * np.mean(frac)\n",
    "    if round(area, 4) == 3.1415:\n",
    "        break\n",
    "    else:\n",
    "        N += 1"
   ]
  },
  {
   "cell_type": "code",
   "execution_count": 15,
   "metadata": {},
   "outputs": [
    {
     "name": "stdout",
     "output_type": "stream",
     "text": [
      "The smallest number of random draws: 1654\n",
      "Circle Area: 3.1414752116082223\n"
     ]
    }
   ],
   "source": [
    "print('The smallest number of random draws:', N)\n",
    "print('Circle Area:',area)"
   ]
  },
  {
   "cell_type": "code",
   "execution_count": null,
   "metadata": {},
   "outputs": [],
   "source": [
    "#Problem 4.2"
   ]
  },
  {
   "cell_type": "code",
   "execution_count": 16,
   "metadata": {},
   "outputs": [],
   "source": [
    "def isPrime(n):\n",
    "    for i in range(2, int(np.sqrt(n) + 1)):\n",
    "        if n % i == 0:\n",
    "            return False\n",
    "\n",
    "    return True"
   ]
  },
  {
   "cell_type": "code",
   "execution_count": 17,
   "metadata": {},
   "outputs": [],
   "source": [
    "def primes_ascend(N, min_val=2):\n",
    "    \n",
    "    primes_vec = np.zeros(N, dtype=int)\n",
    "    MinIsEven = 1 - min_val % 2\n",
    "    MinIsGrtrThn2 = min_val > 2\n",
    "    curr_prime_ind = 0\n",
    "    if not MinIsGrtrThn2:\n",
    "        i = 2\n",
    "        curr_prime_ind += 1\n",
    "        primes_vec[0] = i\n",
    "    i = min(3, min_val + (MinIsEven * 1))\n",
    "    while curr_prime_ind < N:\n",
    "        if isPrime(i):\n",
    "            curr_prime_ind += 1\n",
    "            primes_vec[curr_prime_ind - 1] = i\n",
    "        i += 2\n",
    "\n",
    "    return primes_vec"
   ]
  },
  {
   "cell_type": "code",
   "execution_count": 18,
   "metadata": {},
   "outputs": [],
   "source": [
    "def equi_dis_nth(n, d, seq_name):\n",
    "    prime_vec = primes_ascend(d)\n",
    "    if seq_name == 'weyl':\n",
    "        seq = np.sqrt(prime_vec) * n\n",
    "        \n",
    "    elif seq_name == 'haber':\n",
    "        seq = np.sqrt(prime_vec) * (n * (n + 1) / 2)\n",
    "    \n",
    "    elif seq_name == 'niederreiter':\n",
    "        seq = [n * 2 ** (i / (n + 1)) for i in range(1, d+1)]\n",
    "        seq = np.array(seq)\n",
    "    \n",
    "    elif seq_name == 'baker':\n",
    "        seq = n * np.exp(prime_vec)\n",
    "    \n",
    "    sequence_name = seq - np.floor(seq)\n",
    "    return sequence_name       "
   ]
  },
  {
   "cell_type": "code",
   "execution_count": 19,
   "metadata": {},
   "outputs": [
    {
     "data": {
      "text/plain": [
       "array([0.07106781, 0.66025404])"
      ]
     },
     "execution_count": 19,
     "metadata": {},
     "output_type": "execute_result"
    }
   ],
   "source": [
    "equi_dis_nth(5, 2, 'weyl')"
   ]
  },
  {
   "cell_type": "code",
   "execution_count": 20,
   "metadata": {},
   "outputs": [
    {
     "data": {
      "text/plain": [
       "array([0.21320344, 0.98076211])"
      ]
     },
     "execution_count": 20,
     "metadata": {},
     "output_type": "execute_result"
    }
   ],
   "source": [
    "equi_dis_nth(5, 2, 'haber')"
   ]
  },
  {
   "cell_type": "code",
   "execution_count": 21,
   "metadata": {},
   "outputs": [
    {
     "data": {
      "text/plain": [
       "array([0.61231024, 0.29960525])"
      ]
     },
     "execution_count": 21,
     "metadata": {},
     "output_type": "execute_result"
    }
   ],
   "source": [
    "equi_dis_nth(5, 2, 'niederreiter')"
   ]
  },
  {
   "cell_type": "code",
   "execution_count": 22,
   "metadata": {},
   "outputs": [
    {
     "data": {
      "text/plain": [
       "array([0.94528049, 0.42768462])"
      ]
     },
     "execution_count": 22,
     "metadata": {},
     "output_type": "execute_result"
    }
   ],
   "source": [
    "equi_dis_nth(5, 2, 'baker')"
   ]
  },
  {
   "cell_type": "code",
   "execution_count": null,
   "metadata": {},
   "outputs": [],
   "source": [
    "#Problem 4.3"
   ]
  },
  {
   "cell_type": "code",
   "execution_count": 23,
   "metadata": {},
   "outputs": [
    {
     "name": "stdout",
     "output_type": "stream",
     "text": [
      "Smallest number of draws for Weyl: 1230\n"
     ]
    }
   ],
   "source": [
    "import numpy as np\n",
    "np.random.seed = 25\n",
    "N = 1\n",
    "while N >= 0:\n",
    "    x= [2 * equi_dis_nth(i, 2, 'weyl')[0] - 1 for i in range(N)]\n",
    "    y= [2 * equi_dis_nth(i, 2, 'weyl')[1] - 1 for i in range(N)]\n",
    "    frac = list(map(cir_inside,x,y ))\n",
    "    area = 4 * np.mean(frac)\n",
    "    if round(area, 4) == 3.1415:\n",
    "        print('Smallest number of draws for Weyl:', N)\n",
    "        break\n",
    "    else:\n",
    "        N += 1"
   ]
  },
  {
   "cell_type": "code",
   "execution_count": 24,
   "metadata": {},
   "outputs": [
    {
     "name": "stdout",
     "output_type": "stream",
     "text": [
      "Smallest number of draws for Haber: 2064\n"
     ]
    }
   ],
   "source": [
    "N = 1\n",
    "while N >= 0:\n",
    "    x = [2 * equi_dis_nth(i, 2, 'haber')[0] - 1 for i in range(N)]\n",
    "    y = [2 * equi_dis_nth(i, 2, 'haber')[1] - 1 for i in range(N)]\n",
    "    frac = list(map(cir_inside, x, y))\n",
    "    area = 4 * np.mean(frac)\n",
    "    if round(area, 4) == 3.1415:\n",
    "        print('Smallest number of draws for Haber:', N)\n",
    "        break\n",
    "    else:\n",
    "        N += 1"
   ]
  },
  {
   "cell_type": "code",
   "execution_count": null,
   "metadata": {},
   "outputs": [],
   "source": [
    "N = 1\n",
    "while N >= 0:\n",
    "    x = [2 * equi_dis_nth(i, 2, 'niederreiter')[0] - 1 for i in range(N)]\n",
    "    y = [2 * equi_dis_nth(i, 2, 'niederreiter')[1] - 1 for i in range(N)]\n",
    "    frac = list(map(cir_inside, x, y))\n",
    "    area = 4 * np.mean(frac)\n",
    "    if round(area, 4) == 3.1415:\n",
    "        print('Smallest number of draws for Niederreiter:', N)\n",
    "        break\n",
    "    elif N > 10000:\n",
    "        print('Niederreiter not converging')\n",
    "    else:\n",
    "        N += 1"
   ]
  },
  {
   "cell_type": "code",
   "execution_count": null,
   "metadata": {},
   "outputs": [],
   "source": [
    "N = 1\n",
    "while N >= 0:\n",
    "    x = [2 * equi_dis_nth(i, 2, 'baker')[0] - 1 for i in range(N)]\n",
    "    y = [2 * equi_dis_nth(i, 2, 'baker')[1] - 1 for i in range(N)]\n",
    "    frac = list(map(cir_inside, x, y))\n",
    "    area = 4 * np.mean(frac)\n",
    "    if round(area, 4) == 3.1415:\n",
    "        print('Smallest number of draws for Baker:', N)\n",
    "        break\n",
    "    else:\n",
    "        N += 1"
   ]
  },
  {
   "cell_type": "code",
   "execution_count": null,
   "metadata": {},
   "outputs": [],
   "source": []
  }
 ],
 "metadata": {
  "kernelspec": {
   "display_name": "Python 3",
   "language": "python",
   "name": "python3"
  },
  "language_info": {
   "codemirror_mode": {
    "name": "ipython",
    "version": 3
   },
   "file_extension": ".py",
   "mimetype": "text/x-python",
   "name": "python",
   "nbconvert_exporter": "python",
   "pygments_lexer": "ipython3",
   "version": "3.7.1"
  }
 },
 "nbformat": 4,
 "nbformat_minor": 2
}
